{
  "cells": [
    {
      "cell_type": "code",
      "execution_count": 2,
      "metadata": {
        "colab": {
          "base_uri": "https://localhost:8080/"
        },
        "id": "ORNoc-fDF5_5",
        "outputId": "0b8372fb-e632-4bf1-c10b-dfdc9058e5a8"
      },
      "outputs": [
        {
          "name": "stdout",
          "output_type": "stream",
          "text": [
            "Requirement already satisfied: requests in /usr/local/lib/python3.10/dist-packages (2.32.3)\n",
            "Requirement already satisfied: beautifulsoup4 in /usr/local/lib/python3.10/dist-packages (4.12.3)\n",
            "Requirement already satisfied: openai in /usr/local/lib/python3.10/dist-packages (1.54.4)\n",
            "Collecting langchain-openai\n",
            "  Downloading langchain_openai-0.2.10-py3-none-any.whl.metadata (2.6 kB)\n",
            "Requirement already satisfied: charset-normalizer<4,>=2 in /usr/local/lib/python3.10/dist-packages (from requests) (3.4.0)\n",
            "Requirement already satisfied: idna<4,>=2.5 in /usr/local/lib/python3.10/dist-packages (from requests) (3.10)\n",
            "Requirement already satisfied: urllib3<3,>=1.21.1 in /usr/local/lib/python3.10/dist-packages (from requests) (2.2.3)\n",
            "Requirement already satisfied: certifi>=2017.4.17 in /usr/local/lib/python3.10/dist-packages (from requests) (2024.8.30)\n",
            "Requirement already satisfied: soupsieve>1.2 in /usr/local/lib/python3.10/dist-packages (from beautifulsoup4) (2.6)\n",
            "Requirement already satisfied: anyio<5,>=3.5.0 in /usr/local/lib/python3.10/dist-packages (from openai) (3.7.1)\n",
            "Requirement already satisfied: distro<2,>=1.7.0 in /usr/local/lib/python3.10/dist-packages (from openai) (1.9.0)\n",
            "Requirement already satisfied: httpx<1,>=0.23.0 in /usr/local/lib/python3.10/dist-packages (from openai) (0.27.2)\n",
            "Requirement already satisfied: jiter<1,>=0.4.0 in /usr/local/lib/python3.10/dist-packages (from openai) (0.7.1)\n",
            "Requirement already satisfied: pydantic<3,>=1.9.0 in /usr/local/lib/python3.10/dist-packages (from openai) (2.9.2)\n",
            "Requirement already satisfied: sniffio in /usr/local/lib/python3.10/dist-packages (from openai) (1.3.1)\n",
            "Requirement already satisfied: tqdm>4 in /usr/local/lib/python3.10/dist-packages (from openai) (4.66.6)\n",
            "Requirement already satisfied: typing-extensions<5,>=4.11 in /usr/local/lib/python3.10/dist-packages (from openai) (4.12.2)\n",
            "Collecting langchain-core<0.4.0,>=0.3.21 (from langchain-openai)\n",
            "  Downloading langchain_core-0.3.21-py3-none-any.whl.metadata (6.3 kB)\n",
            "Collecting tiktoken<1,>=0.7 (from langchain-openai)\n",
            "  Downloading tiktoken-0.8.0-cp310-cp310-manylinux_2_17_x86_64.manylinux2014_x86_64.whl.metadata (6.6 kB)\n",
            "Requirement already satisfied: exceptiongroup in /usr/local/lib/python3.10/dist-packages (from anyio<5,>=3.5.0->openai) (1.2.2)\n",
            "Requirement already satisfied: httpcore==1.* in /usr/local/lib/python3.10/dist-packages (from httpx<1,>=0.23.0->openai) (1.0.7)\n",
            "Requirement already satisfied: h11<0.15,>=0.13 in /usr/local/lib/python3.10/dist-packages (from httpcore==1.*->httpx<1,>=0.23.0->openai) (0.14.0)\n",
            "Requirement already satisfied: PyYAML>=5.3 in /usr/local/lib/python3.10/dist-packages (from langchain-core<0.4.0,>=0.3.21->langchain-openai) (6.0.2)\n",
            "Requirement already satisfied: jsonpatch<2.0,>=1.33 in /usr/local/lib/python3.10/dist-packages (from langchain-core<0.4.0,>=0.3.21->langchain-openai) (1.33)\n",
            "Requirement already satisfied: langsmith<0.2.0,>=0.1.125 in /usr/local/lib/python3.10/dist-packages (from langchain-core<0.4.0,>=0.3.21->langchain-openai) (0.1.143)\n",
            "Requirement already satisfied: packaging<25,>=23.2 in /usr/local/lib/python3.10/dist-packages (from langchain-core<0.4.0,>=0.3.21->langchain-openai) (24.2)\n",
            "Requirement already satisfied: tenacity!=8.4.0,<10.0.0,>=8.1.0 in /usr/local/lib/python3.10/dist-packages (from langchain-core<0.4.0,>=0.3.21->langchain-openai) (9.0.0)\n",
            "Requirement already satisfied: annotated-types>=0.6.0 in /usr/local/lib/python3.10/dist-packages (from pydantic<3,>=1.9.0->openai) (0.7.0)\n",
            "Requirement already satisfied: pydantic-core==2.23.4 in /usr/local/lib/python3.10/dist-packages (from pydantic<3,>=1.9.0->openai) (2.23.4)\n",
            "Requirement already satisfied: regex>=2022.1.18 in /usr/local/lib/python3.10/dist-packages (from tiktoken<1,>=0.7->langchain-openai) (2024.9.11)\n",
            "Requirement already satisfied: jsonpointer>=1.9 in /usr/local/lib/python3.10/dist-packages (from jsonpatch<2.0,>=1.33->langchain-core<0.4.0,>=0.3.21->langchain-openai) (3.0.0)\n",
            "Requirement already satisfied: orjson<4.0.0,>=3.9.14 in /usr/local/lib/python3.10/dist-packages (from langsmith<0.2.0,>=0.1.125->langchain-core<0.4.0,>=0.3.21->langchain-openai) (3.10.11)\n",
            "Requirement already satisfied: requests-toolbelt<2.0.0,>=1.0.0 in /usr/local/lib/python3.10/dist-packages (from langsmith<0.2.0,>=0.1.125->langchain-core<0.4.0,>=0.3.21->langchain-openai) (1.0.0)\n",
            "Downloading langchain_openai-0.2.10-py3-none-any.whl (50 kB)\n",
            "\u001b[2K   \u001b[90m━━━━━━━━━━━━━━━━━━━━━━━━━━━━━━━━━━━━━━━━\u001b[0m \u001b[32m50.6/50.6 kB\u001b[0m \u001b[31m2.9 MB/s\u001b[0m eta \u001b[36m0:00:00\u001b[0m\n",
            "\u001b[?25hDownloading langchain_core-0.3.21-py3-none-any.whl (409 kB)\n",
            "\u001b[2K   \u001b[90m━━━━━━━━━━━━━━━━━━━━━━━━━━━━━━━━━━━━━━━━\u001b[0m \u001b[32m409.5/409.5 kB\u001b[0m \u001b[31m14.1 MB/s\u001b[0m eta \u001b[36m0:00:00\u001b[0m\n",
            "\u001b[?25hDownloading tiktoken-0.8.0-cp310-cp310-manylinux_2_17_x86_64.manylinux2014_x86_64.whl (1.2 MB)\n",
            "\u001b[2K   \u001b[90m━━━━━━━━━━━━━━━━━━━━━━━━━━━━━━━━━━━━━━━━\u001b[0m \u001b[32m1.2/1.2 MB\u001b[0m \u001b[31m46.9 MB/s\u001b[0m eta \u001b[36m0:00:00\u001b[0m\n",
            "\u001b[?25hInstalling collected packages: tiktoken, langchain-core, langchain-openai\n",
            "  Attempting uninstall: langchain-core\n",
            "    Found existing installation: langchain-core 0.3.19\n",
            "    Uninstalling langchain-core-0.3.19:\n",
            "      Successfully uninstalled langchain-core-0.3.19\n",
            "Successfully installed langchain-core-0.3.21 langchain-openai-0.2.10 tiktoken-0.8.0\n"
          ]
        }
      ],
      "source": [
        "!pip install requests beautifulsoup4 openai langchain-openai"
      ]
    },
    {
      "cell_type": "code",
      "execution_count": 8,
      "metadata": {
        "colab": {
          "base_uri": "https://localhost:8080/",
          "height": 122
        },
        "id": "rV69uVHuGeB6",
        "outputId": "f49734da-9a25-4644-fd0c-1e8f78b996d4"
      },
      "outputs": [
        {
          "data": {
            "application/vnd.google.colaboratory.intrinsic+json": {
              "type": "string"
            },
            "text/plain": [
              "\"SQL Interview Questions: A Comprehensive Guide for Developers - DEV Community\\nSkip to content\\nNavigation menu\\nSearch\\nPowered by\\nSearch\\nAlgolia\\nSearch\\nLog in\\nCreate account\\nDEV Community\\nClose\\nAdd reaction\\nLike\\nUnicorn\\nExploding Head\\nRaised Hands\\nFire\\nJump to Comments\\nSave\\nBoost\\nMore...\\nCopy link\\nCopy link\\nCopied to Clipboard\\nShare to X\\nShare to LinkedIn\\nShare to Facebook\\nShare to Mastodon\\nReport Abuse\\nNozibul Islam\\nPosted on\\nDec 1\\nSQL Interview Questions: A Comprehensive Guide for Developers\\n# sql\\n# database\\n# interviewquestion\\n# career\\nSQL Interview Questions: A Comprehensive Guide for Developers.\\n1. What is a Database?\\nAnswer:\\nA database is an organized collection of data, stored and retrieved digitally from a remote or local computer system. Databases can be vast and complex, and are typically developed using fixed design and modeling approaches.\\n2. What is DBMS?\\nAnswer:\\nDBMS (Database Management System) is a system software responsible for:\\nCreating databases\\nRetrieving data\\nUpdating data\\nManaging databases\\nIt serves as an interface between the database and end-users or application software, ensuring data is consistent, organized, and easily accessible.\\n3. What is RDBMS? How is it Different from DBMS?\\nAnswer:\\nRDBMS (Relational Database Management System) differs from DBMS by:\\nStoring data in tables\\nAllowing relations between tables through common fields\\nMost modern database systems like MySQL, Microsoft SQL Server, Oracle, IBM DB2, and Amazon Redshift are RDBMS-based.\\n4. What is SQL?\\nAnswer:\\nSQL (Structured Query Language) is the standard language for relational database management systems. It's particularly useful for:\\nHandling organized data\\nManaging entities and their relationships\\nRetrieving and manipulating structured databases\\n5. SQL vs MySQL: Understanding the Difference\\nAnswer:\\nSQL is a standard language for database management\\nMySQL is a specific relational database management system that uses SQL\\n6. Tables and Fields: The Building Blocks\\nAnswer:\\nA table is an organized collection of data in rows and columns\\nColumns (vertical) are called fields\\nRows (horizontal) are called records\\n7. SQL Constraints\\nAnswer:\\nConstraints define rules for data in a table. Key constraints include:\\nNOT NULL:\\nPrevents NULL values in a column\\nCHECK : Verifies values meet a specific condition\\nDEFAULT : Assigns a default value if none is specified\\nUNIQUE:\\nEnsures unique values in a field\\nINDEX:\\nSpeeds up record retrieval\\nPRIMARY KEY:\\nUniquely identifies each record\\nFOREIGN KEY:\\nEnsures referential integrity\\n8. Primary Key\\nAnswer:\\nA PRIMARY KEY:\\nUniquely identifies each row in a table\\nMust contain unique values\\nHas an implicit NOT NULL constraint\\nA table can have only one primary key\\nExample:\\nsqlCopyCREATE TABLE Students (\\nID INT NOT NULL,\\nName VARCHAR(255),\\nPRIMARY KEY (ID)\\n);\\nEnter fullscreen mode\\nExit fullscreen mode\\n9. UNIQUE Constraint\\nAnswer:\\nA UNIQUE constraint ensures:\\nAll values in a column are different\\nMultiple unique constraints can exist in a table\\nExample:\\nsqlCopyCREATE TABLE Students (\\nID INT NOT NULL UNIQUE,\\nName VARCHAR(255)\\n);\\nEnter fullscreen mode\\nExit fullscreen mode\\n10. Foreign Key\\nAnswer:\\nA FOREIGN KEY:\\nReferences the PRIMARY KEY in another table\\nEnsures referential integrity\\nCan be a single or multiple fields\\nExample:\\nsqlCopyCREATE TABLE Students (\\nID INT NOT NULL PRIMARY KEY,\\nName VARCHAR(255),\\nLibraryID INT,\\nFOREIGN KEY (LibraryID) REFERENCES Library(LibraryID)\\n);\\nEnter fullscreen mode\\nExit fullscreen mode\\n11. SQL Joins\\nAnswer:\\nJoins combine records from multiple tables based on related columns. Types include:\\nINNER JOIN:\\nMatches records in both tables\\nLEFT JOIN:\\nAll records from left table, matched records from right\\nRIGHT JOIN:\\nAll records from right table, matched records from left\\nFULL JOIN:\\nAll records with matches in either table\\n12. Self-Join\\nAnswer:\\nA self-join joins a table to itself based on related columns, using table aliases.\\n13. Cross-Join\\nAnswer:\\nA cross-join creates a Cartesian product of two tables, resulting in all possible combinations of rows.\\n14. Database Indexes\\nAnswer:\\nIndexes improve data retrieval speed by creating quick lookup structures for columns.\\nTypes include:\\nUnique Indexes\\nNon-Unique Indexes\\nClustered Indexes\\nNon-Clustered Indexes\\n15. Data Integrity\\nAnswer:\\nEnsures data accuracy and consistency throughout its lifecycle by enforcing business rules during data entry and processing.\\nConclusion\\nUnderstanding these SQL concepts is crucial for developers working with databases. Practice these queries and concepts to excel in database-related interviews and development roles.\\nTop comments\\n(0)\\nSubscribe\\nPersonal\\nTrusted User\\nCreate template\\nTemplates let you quickly answer FAQs or store snippets for re-use.\\nSubmit\\nPreview\\nDismiss\\nCode of Conduct\\n•\\nReport abuse\\nAre you sure you want to hide this comment? It will become hidden in your post, but will still be visible via the comment's\\npermalink .\\nHide child comments as well\\nConfirm\\nFor further actions, you may consider blocking this person and/or\\nreporting abuse\\nRead next\\n🚀 Go-ing Full-Stack: Building Dynamic Web Apps with Go 🐹, PostgreSQL 🐘, Docker 🐳, and HTTP Servers 🌐\\nAllan Githaiga -\\nNov 15\\nFrom LEGO Bricks to Data Blocks: Adventures with PromptQL\\nJared Short -\\nNov 19\\nChartDB: From Zero to 1.5K GitHub Stars in 3 Days - Here’s How 🚀⭐️\\nJonathan Fishner -\\nOct 29\\nTop 5 Game-Changing JavaScript Features in ECMAScript 2024: Boost Your Code Like Never Before!\\nvamstroy -\\nNov 4\\nNozibul Islam\\nFollow\\nI am a Full-Stack Developer specialized Front-end Developer. Passionate about algorithms, data structures, and coding challenges & always ready to face new challenges.\\nLocation\\nDhaka, Bangladesh\\nEducation\\nB.Sc. in Computer Science Engineering\\nPronouns\\nMr.\\nWork\\nCurrently, I’m focused on problem-solving and learning DSA while freelancing.\\nJoined\\nAug 24, 2024\\nMore from\\nNozibul Islam\\nGIT Interview Questions & Answers\\n# git\\n# github\\n# interview\\n# career\\nData Cleaning\\n# data\\n# datacleaning\\n# webdev\\n# database\\nVector Search and Semantic Search in Depth\\n# semantic\\n# vectordatabase\\n# database\\n# tutorial\\nThank you to our Diamond Sponsor\\nNeon\\nfor supporting our community.\\nDEV Community\\n— A constructive and inclusive social network for software developers. With you every step of your journey.\\nHome\\nDEV++\\nPodcasts\\nVideos\\nTags\\nDEV Help\\nForem Shop\\nAdvertise on DEV\\nDEV Challenges\\nDEV Showcase\\nAbout\\nContact\\nFree Postgres Database\\nGuides\\nSoftware comparisons\\nCode of Conduct\\nPrivacy Policy\\nTerms of use\\nBuilt on\\nForem\\n— the\\nopen source\\nsoftware that powers\\nDEV\\nand other inclusive communities.\\nMade with love and\\nRuby on Rails . DEV Community\\n©\\n2016 - 2024.\\nWe're a place where coders share, stay up-to-date and grow their careers.\\nLog in\\nCreate account\""
            ]
          },
          "execution_count": 8,
          "metadata": {},
          "output_type": "execute_result"
        }
      ],
      "source": [
        "import requests\n",
        "from bs4 import BeautifulSoup\n",
        "\n",
        "# extracting text from web\n",
        "def extract_from_url(url):\n",
        "  response = requests.get(url)\n",
        "\n",
        "  # if could not get text\n",
        "  if response.status_code != 200:\n",
        "    print(f\"Failed to fetch the URL. Status code: {response.status_code}\")\n",
        "    return None\n",
        "\n",
        "  # getting text (some of its structure is preserved)\n",
        "  soup = BeautifulSoup(response.text, \"html.parser\")\n",
        "  # decomposing text\n",
        "  for script_or_style in soup([\"script\", \"style\"]):\n",
        "    script_or_style.decompose()\n",
        "  text = soup.get_text(separator = \" \")\n",
        "  # cleaning text\n",
        "  lines = (line.strip() for line in text.splitlines())\n",
        "  parts = (phrase.strip() for line in lines for phrase in line.split(\"  \"))\n",
        "  clean_text = \"\\n\".join(part for part in parts if part)\n",
        "  return clean_text\n",
        "\n",
        "extract_from_url(\"https://dev.to/nozibul_islam_113b1d5334f/sql-interview-questions-a-comprehensive-guide-for-developers-5c6d\")"
      ]
    },
    {
      "cell_type": "code",
      "execution_count": null,
      "metadata": {
        "colab": {
          "base_uri": "https://localhost:8080/",
          "height": 339
        },
        "id": "13S5ptkBHl-3",
        "outputId": "1d71affd-7447-4393-c6ce-ce7c40c0d56a"
      },
      "outputs": [],
      "source": [
        "from langchain_openai.chat_models.azure import AzureChatOpenAI\n",
        "\n",
        "# initialising Azure OpenAI client\n",
        "client = AzureChatOpenAI(\n",
        "    azure_endpoint = \"#AZURE_ENDPOINT#\", # endpoint based on resource name\n",
        "    api_key = \"API_KEY\", # key to use the resource\n",
        "    api_version = \"0125\",\n",
        "    deployment_name = \"gpt-35-turbo\",\n",
        "    max_retries = 0\n",
        ")\n",
        "\n",
        "# translating articles\n",
        "def article_translate(text, langauge):\n",
        "  messages = [\n",
        "      (\"system\", \"Você é um tradutor de textos\"),  # gives context to the model\n",
        "      (\"user\", f\"Traduza o texto {text} para o idioma {langauge}\") # user prompt\n",
        "  ]\n",
        "\n",
        "  response = client.invoke(messages) # get response\n",
        "  print(response.content)\n",
        "  return response.content\n",
        "\n",
        "# test function\n",
        "article_translate(\"A database is an organized collection of data, stored and retrieved digitally from a remote or local computer system. Databases can be vast and complex, and are typically developed using fixed design and modeling approaches.\", \"portugues\")"
      ]
    },
    {
      "cell_type": "code",
      "execution_count": null,
      "metadata": {
        "id": "B_SMmBX9Leie"
      },
      "outputs": [],
      "source": []
    }
  ],
  "metadata": {
    "colab": {
      "provenance": []
    },
    "kernelspec": {
      "display_name": "Python 3",
      "name": "python3"
    },
    "language_info": {
      "name": "python"
    }
  },
  "nbformat": 4,
  "nbformat_minor": 0
}
