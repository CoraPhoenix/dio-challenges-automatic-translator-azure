{
  "cells": [
    {
      "cell_type": "code",
      "execution_count": 1,
      "metadata": {
        "colab": {
          "base_uri": "https://localhost:8080/"
        },
        "id": "2id_SvcT6mmq",
        "outputId": "0cfdeed8-03ee-4284-9633-c06e4528355a"
      },
      "outputs": [
        {
          "name": "stdout",
          "output_type": "stream",
          "text": [
            "Requirement already satisfied: requests in /usr/local/lib/python3.10/dist-packages (2.32.3)\n",
            "Collecting python-docx\n",
            "  Downloading python_docx-1.1.2-py3-none-any.whl.metadata (2.0 kB)\n",
            "Requirement already satisfied: charset-normalizer<4,>=2 in /usr/local/lib/python3.10/dist-packages (from requests) (3.4.0)\n",
            "Requirement already satisfied: idna<4,>=2.5 in /usr/local/lib/python3.10/dist-packages (from requests) (3.10)\n",
            "Requirement already satisfied: urllib3<3,>=1.21.1 in /usr/local/lib/python3.10/dist-packages (from requests) (2.2.3)\n",
            "Requirement already satisfied: certifi>=2017.4.17 in /usr/local/lib/python3.10/dist-packages (from requests) (2024.8.30)\n",
            "Requirement already satisfied: lxml>=3.1.0 in /usr/local/lib/python3.10/dist-packages (from python-docx) (5.3.0)\n",
            "Requirement already satisfied: typing-extensions>=4.9.0 in /usr/local/lib/python3.10/dist-packages (from python-docx) (4.12.2)\n",
            "Downloading python_docx-1.1.2-py3-none-any.whl (244 kB)\n",
            "\u001b[2K   \u001b[90m━━━━━━━━━━━━━━━━━━━━━━━━━━━━━━━━━━━━━━━━\u001b[0m \u001b[32m244.3/244.3 kB\u001b[0m \u001b[31m3.7 MB/s\u001b[0m eta \u001b[36m0:00:00\u001b[0m\n",
            "\u001b[?25hInstalling collected packages: python-docx\n",
            "Successfully installed python-docx-1.1.2\n"
          ]
        }
      ],
      "source": [
        "!pip install requests python-docx"
      ]
    },
    {
      "cell_type": "code",
      "execution_count": 12,
      "metadata": {
        "id": "hiAlh4fT6v4Z"
      },
      "outputs": [],
      "source": [
        "import requests\n",
        "from docx import Document\n",
        "import os\n",
        "\n",
        "subscription_key = \"#MY-SUBSCRIPTION-KEY#\"\n",
        "endpoint = \"https://api.cognitive.microsofttranslator.com\"\n",
        "location = \"eastus\"\n",
        "\n",
        "# translating document\n",
        "\n",
        "def translate(text, target_language):\n",
        "\n",
        "  path = \"/translate\"\n",
        "  full_url = endpoint + path # full endpoint link\n",
        "\n",
        "  # headers to be sent to API request\n",
        "  headers = {\n",
        "      \"Ocp-Apim-Subscription-Key\": subscription_key,\n",
        "      \"Ocp-Apim-Subscription-Region\": location,\n",
        "      \"Content-type\": \"application/json\",\n",
        "      \"X-ClientTraceId\": str(os.urandom(16))\n",
        "  }\n",
        "\n",
        "  # body to be sent to API request\n",
        "  body = [{\n",
        "      \"text\": text\n",
        "  }]\n",
        "\n",
        "  # additional parameters\n",
        "  params = {\n",
        "      \"api-version\": \"3.0\",\n",
        "      \"from\": \"en\",\n",
        "      \"to\": target_language\n",
        "  }\n",
        "\n",
        "  # send POST request\n",
        "  request = requests.post(full_url, params = params, headers = headers, json = body)\n",
        "  response = request.json() # get response in JSON format\n",
        "  return response[0][\"translations\"][0][\"text\"]\n",
        "\n"
      ]
    },
    {
      "cell_type": "code",
      "execution_count": 11,
      "metadata": {
        "colab": {
          "base_uri": "https://localhost:8080/"
        },
        "id": "Bm3BTIxT9wIJ",
        "outputId": "5251dc67-876d-48b0-8455-426ee3d81031"
      },
      "outputs": [
        {
          "data": {
            "text/plain": [
              "[{'translations': [{'text': 'Eu sigo o Moskva até o Parque Gorky Ouvindo o vento da mudança',\n",
              "    'to': 'pt'}]}]"
            ]
          },
          "execution_count": 11,
          "metadata": {},
          "output_type": "execute_result"
        }
      ],
      "source": [
        "translate(\"I follow the Moskva down to Gorky Park Listening to the wind of change\", \"pt-br\")"
      ]
    },
    {
      "cell_type": "code",
      "execution_count": 16,
      "metadata": {
        "id": "UEURsANl-IR8"
      },
      "outputs": [],
      "source": [
        "# document translating\n",
        "def doc_translate(path):\n",
        "  doc = Document(path)\n",
        "  full_text = [] # to store all translated text\n",
        "  for paragraph in doc.paragraphs:\n",
        "    translated_text = translate(paragraph.text, \"pt-br\")\n",
        "    full_text.append(translated_text)\n",
        "\n",
        "  # create an empty document to be sent\n",
        "  translated_doc = Document()\n",
        "\n",
        "  # fill empty document with tarnslated text\n",
        "  for line in full_text:\n",
        "    translated_doc.add_paragraph(line)\n",
        "  path_translated = path.replace(\".docx\", \"_trans_pt-br.docx\")\n",
        "  translated_doc.save(path_translated) # save tarnslated file\n",
        "  # return path where file is saved\n",
        "  return path_translated"
      ]
    },
    {
      "cell_type": "code",
      "execution_count": 17,
      "metadata": {
        "colab": {
          "base_uri": "https://localhost:8080/",
          "height": 35
        },
        "id": "OWmr-nEmCJtl",
        "outputId": "88e2b533-4856-48a2-a670-8fc53e379573"
      },
      "outputs": [
        {
          "data": {
            "application/vnd.google.colaboratory.intrinsic+json": {
              "type": "string"
            },
            "text/plain": [
              "'/content/wind of change lyrics_trans_pt-br.docx'"
            ]
          },
          "execution_count": 17,
          "metadata": {},
          "output_type": "execute_result"
        }
      ],
      "source": [
        "# get file to be translated\n",
        "input_file = \"/content/wind of change lyrics.docx\"\n",
        "doc_translate(input_file)"
      ]
    },
    {
      "cell_type": "code",
      "execution_count": null,
      "metadata": {
        "id": "yRZmIzqmDIu_"
      },
      "outputs": [],
      "source": []
    }
  ],
  "metadata": {
    "colab": {
      "provenance": []
    },
    "kernelspec": {
      "display_name": "Python 3",
      "name": "python3"
    },
    "language_info": {
      "name": "python"
    }
  },
  "nbformat": 4,
  "nbformat_minor": 0
}
